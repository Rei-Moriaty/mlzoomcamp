{
 "cells": [
  {
   "cell_type": "markdown",
   "id": "b6b0f95f",
   "metadata": {},
   "source": [
    "# Question 1"
   ]
  },
  {
   "cell_type": "code",
   "execution_count": 2,
   "id": "c4449783",
   "metadata": {},
   "outputs": [
    {
     "name": "stdout",
     "output_type": "stream",
     "text": [
      "pipenv, version 2022.10.4\n",
      "\n"
     ]
    }
   ],
   "source": [
    "!pipenv --version"
   ]
  },
  {
   "cell_type": "markdown",
   "id": "4889d4f4",
   "metadata": {},
   "source": [
    "### Answer: pipenv, version 2022.10.4"
   ]
  },
  {
   "cell_type": "markdown",
   "id": "4c8ed5c7",
   "metadata": {},
   "source": [
    "# Question 2"
   ]
  },
  {
   "cell_type": "code",
   "execution_count": 2,
   "id": "d741e00f",
   "metadata": {},
   "outputs": [
    {
     "name": "stdout",
     "output_type": "stream",
     "text": [
      "Installing sklearn==1.0.2...\n",
      "\n"
     ]
    },
    {
     "name": "stderr",
     "output_type": "stream",
     "text": [
      "\n",
      "[    ] Installing...\b\n",
      "[=   ] Installing sklearn...\b\n",
      "[==  ] Installing sklearn...\b\n",
      "[=== ] Installing sklearn...\b\n",
      "[ ===] Installing sklearn...\b\n",
      "[  ==] Installing sklearn...\b\n",
      "[   =] Installing sklearn...\b\n",
      "[    ] Installing sklearn...\b\n",
      "[   =] Installing sklearn...\b\n",
      "[  ==] Installing sklearn...\b\n",
      "[ ===] Installing sklearn...\b\n",
      "[====] Installing sklearn...\n",
      "Error:  An error occurred while installing sklearn==1.0.2!\n",
      "\n",
      "Error text: \n",
      "\n",
      "ERROR: Could not find a version that satisfies the requirement sklearn==1.0.2 (from versions: 0.0)\n",
      "ERROR: No matching distribution found for sklearn==1.0.2\n",
      "\n",
      "\bInstallation Failed \n"
     ]
    }
   ],
   "source": [
    "!pipenv install sklearn==1.0.2"
   ]
  },
  {
   "cell_type": "markdown",
   "id": "2179d3b4",
   "metadata": {},
   "source": [
    "### Answer: sha256:08ef968f6b72033c16c479c966bf37ccd49b06ea91b765e1cc27afefe723920b"
   ]
  },
  {
   "cell_type": "markdown",
   "id": "770d96e1",
   "metadata": {},
   "source": [
    " # Question 3"
   ]
  },
  {
   "cell_type": "code",
   "execution_count": 6,
   "id": "efa43a4b",
   "metadata": {},
   "outputs": [],
   "source": [
    "import pickle"
   ]
  },
  {
   "cell_type": "code",
   "execution_count": 7,
   "id": "ac2522a4",
   "metadata": {},
   "outputs": [],
   "source": [
    "output_file_model = 'model1.bin'\n",
    "output_file_dv = 'dv.bin'"
   ]
  },
  {
   "cell_type": "code",
   "execution_count": 8,
   "id": "ff4db35b",
   "metadata": {},
   "outputs": [
    {
     "name": "stderr",
     "output_type": "stream",
     "text": [
      "C:\\ProgramData\\Anaconda3\\lib\\site-packages\\sklearn\\base.py:310: UserWarning: Trying to unpickle estimator DictVectorizer from version 1.0.2 when using version 0.24.1. This might lead to breaking code or invalid results. Use at your own risk.\n",
      "  warnings.warn(\n",
      "C:\\ProgramData\\Anaconda3\\lib\\site-packages\\sklearn\\base.py:310: UserWarning: Trying to unpickle estimator LogisticRegression from version 1.0.2 when using version 0.24.1. This might lead to breaking code or invalid results. Use at your own risk.\n",
      "  warnings.warn(\n"
     ]
    }
   ],
   "source": [
    "with open(output_file_dv, 'rb') as f_in:\n",
    "    dv = pickle.load(f_in)\n",
    "with open(output_file_model, 'rb') as f_in:\n",
    "    model = pickle.load(f_in)"
   ]
  },
  {
   "cell_type": "code",
   "execution_count": 13,
   "id": "9d1da53a",
   "metadata": {},
   "outputs": [],
   "source": [
    "def predict(customer):\n",
    "    X = dv.transform([customer])\n",
    "    y_pred = model.predict_proba(X)[0, 1]\n",
    "    churn = y_pred >= 0.5\n",
    "    result = {\n",
    "        \"churn_probability\" : float(y_pred),\n",
    "        \"churn\": bool(churn)\n",
    "    }\n",
    "    return result"
   ]
  },
  {
   "cell_type": "code",
   "execution_count": 14,
   "id": "41a4fe90",
   "metadata": {},
   "outputs": [
    {
     "data": {
      "text/plain": [
       "{'churn_probability': 0.16213414434326598, 'churn': False}"
      ]
     },
     "execution_count": 14,
     "metadata": {},
     "output_type": "execute_result"
    }
   ],
   "source": [
    "predict({\"reports\": 0, \"share\": 0.001694, \"expenditure\": 0.12, \"owner\": \"yes\"})"
   ]
  },
  {
   "cell_type": "markdown",
   "id": "8cad35db",
   "metadata": {},
   "source": [
    "### Answer: 0.162"
   ]
  },
  {
   "cell_type": "markdown",
   "id": "0472de9d",
   "metadata": {},
   "source": [
    "# Question 4"
   ]
  },
  {
   "cell_type": "code",
   "execution_count": 16,
   "id": "e436f150",
   "metadata": {},
   "outputs": [
    {
     "data": {
      "text/plain": [
       "{'churn_probability': 0.9282218018527452, 'churn': True}"
      ]
     },
     "execution_count": 16,
     "metadata": {},
     "output_type": "execute_result"
    }
   ],
   "source": [
    "predict({\"reports\": 0, \"share\": 0.245, \"expenditure\": 3.438, \"owner\": \"yes\"})"
   ]
  },
  {
   "cell_type": "markdown",
   "id": "f475caa2",
   "metadata": {},
   "source": [
    "### Answer: 0.928"
   ]
  },
  {
   "cell_type": "markdown",
   "id": "ef652584",
   "metadata": {},
   "source": [
    "# Question 6"
   ]
  },
  {
   "cell_type": "code",
   "execution_count": 19,
   "id": "73b34ff3",
   "metadata": {},
   "outputs": [
    {
     "data": {
      "text/plain": [
       "{'churn_probability': 0.9282218018527452, 'churn': True}"
      ]
     },
     "execution_count": 19,
     "metadata": {},
     "output_type": "execute_result"
    }
   ],
   "source": [
    "predict({\"reports\": 0, \"share\": 0.245, \"expenditure\": 3.438, \"owner\": \"yes\"})"
   ]
  },
  {
   "cell_type": "code",
   "execution_count": null,
   "id": "faf5d0da",
   "metadata": {},
   "outputs": [],
   "source": []
  }
 ],
 "metadata": {
  "kernelspec": {
   "display_name": "Python 3",
   "language": "python",
   "name": "python3"
  },
  "language_info": {
   "codemirror_mode": {
    "name": "ipython",
    "version": 3
   },
   "file_extension": ".py",
   "mimetype": "text/x-python",
   "name": "python",
   "nbconvert_exporter": "python",
   "pygments_lexer": "ipython3",
   "version": "3.8.8"
  }
 },
 "nbformat": 4,
 "nbformat_minor": 5
}
