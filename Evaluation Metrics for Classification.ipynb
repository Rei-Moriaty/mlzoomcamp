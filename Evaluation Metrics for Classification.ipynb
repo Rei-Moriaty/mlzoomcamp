{
 "cells": [
  {
   "cell_type": "code",
   "execution_count": 1,
   "id": "a4711861",
   "metadata": {},
   "outputs": [],
   "source": [
    "import pandas as pd\n",
    "import numpy as np\n",
    "\n",
    "import matplotlib.pyplot as plt"
   ]
  },
  {
   "cell_type": "code",
   "execution_count": 2,
   "id": "8961eeb7",
   "metadata": {},
   "outputs": [],
   "source": [
    "from sklearn.model_selection import train_test_split\n",
    "from sklearn.feature_extraction import DictVectorizer\n",
    "from sklearn.linear_model import LogisticRegression"
   ]
  },
  {
   "cell_type": "code",
   "execution_count": 71,
   "id": "23874a92",
   "metadata": {},
   "outputs": [],
   "source": [
    "df = pd.read_csv('Datasets/WA_Fn-UseC_-Telco-Customer-Churn.csv')\n",
    "\n",
    "df.columns = df.columns.str.lower().str.replace(' ', '_')\n",
    "\n",
    "categorical_columns = list(df.dtypes[df.dtypes == 'object'].index)\n",
    "\n",
    "for c in categorical_columns:\n",
    "    df[c] = df[c].str.lower().str.replace(' ', '_')\n",
    "    \n",
    "df.totalcharges = pd.to_numeric(df.totalcharges, errors='coerce')\n",
    "df.totalcharges = df.totalcharges.fillna(0)\n",
    "\n",
    "df.churn = (df.churn == 'yes').astype(int)"
   ]
  },
  {
   "cell_type": "code",
   "execution_count": 72,
   "id": "5c81d276",
   "metadata": {},
   "outputs": [],
   "source": [
    "df_full_train, df_test = train_test_split(df, test_size=0.2, random_state=1)\n",
    "df_train, df_val = train_test_split(df_full_train, test_size=0.25, random_state=1)\n",
    "\n",
    "df_train = df_train.reset_index(drop=True)\n",
    "df_val = df_val.reset_index(drop=True)\n",
    "df_test = df_test.reset_index(drop=True)\n",
    "\n",
    "y_train = df_train.churn.values\n",
    "y_val = df_val.churn.values\n",
    "y_test = df_test.churn.values\n",
    "\n",
    "del df_train['churn']\n",
    "del df_val['churn']\n",
    "del df_test['churn']"
   ]
  },
  {
   "cell_type": "code",
   "execution_count": 73,
   "id": "6c8cd1a5",
   "metadata": {},
   "outputs": [],
   "source": [
    "numerical = ['tenure', 'monthlycharges', 'totalcharges']\n",
    "\n",
    "categorical = [\n",
    "    'gender',\n",
    "    'seniorcitizen',\n",
    "    'partner',\n",
    "    'dependents',\n",
    "    'phoneservice',\n",
    "    'multiplelines',\n",
    "    'internetservice',\n",
    "    'onlinesecurity',\n",
    "    'onlinebackup',\n",
    "    'deviceprotection',\n",
    "    'techsupport',\n",
    "    'streamingtv',\n",
    "    'streamingmovies',\n",
    "    'contract',\n",
    "    'paperlessbilling',\n",
    "    'paymentmethod',\n",
    "]"
   ]
  },
  {
   "cell_type": "code",
   "execution_count": 6,
   "id": "ba944bfb",
   "metadata": {},
   "outputs": [
    {
     "name": "stderr",
     "output_type": "stream",
     "text": [
      "C:\\ProgramData\\Anaconda3\\lib\\site-packages\\sklearn\\linear_model\\_logistic.py:763: ConvergenceWarning: lbfgs failed to converge (status=1):\n",
      "STOP: TOTAL NO. of ITERATIONS REACHED LIMIT.\n",
      "\n",
      "Increase the number of iterations (max_iter) or scale the data as shown in:\n",
      "    https://scikit-learn.org/stable/modules/preprocessing.html\n",
      "Please also refer to the documentation for alternative solver options:\n",
      "    https://scikit-learn.org/stable/modules/linear_model.html#logistic-regression\n",
      "  n_iter_i = _check_optimize_result(\n"
     ]
    },
    {
     "data": {
      "text/plain": [
       "LogisticRegression()"
      ]
     },
     "execution_count": 6,
     "metadata": {},
     "output_type": "execute_result"
    }
   ],
   "source": [
    "dv = DictVectorizer(sparse=False)\n",
    "\n",
    "train_dict = df_train[categorical + numerical].to_dict(orient='records')\n",
    "X_train = dv.fit_transform(train_dict)\n",
    "\n",
    "model = LogisticRegression()\n",
    "model.fit(X_train, y_train)"
   ]
  },
  {
   "cell_type": "code",
   "execution_count": 7,
   "id": "48f7da8d",
   "metadata": {},
   "outputs": [
    {
     "data": {
      "text/plain": [
       "0.8026969481902059"
      ]
     },
     "execution_count": 7,
     "metadata": {},
     "output_type": "execute_result"
    }
   ],
   "source": [
    "val_dict = df_val[categorical + numerical].to_dict(orient='records')\n",
    "X_val = dv.transform(val_dict)\n",
    "\n",
    "y_pred = model.predict_proba(X_val)[:, 1]\n",
    "churn_decision = (y_pred >= 0.5)\n",
    "(y_val == churn_decision).mean()"
   ]
  },
  {
   "cell_type": "markdown",
   "id": "c0be50dc",
   "metadata": {},
   "source": [
    "# Accuracy and dummy model"
   ]
  },
  {
   "cell_type": "code",
   "execution_count": 8,
   "id": "29edd5fe",
   "metadata": {},
   "outputs": [
    {
     "data": {
      "text/plain": [
       "1409"
      ]
     },
     "execution_count": 8,
     "metadata": {},
     "output_type": "execute_result"
    }
   ],
   "source": [
    "len(y_val)"
   ]
  },
  {
   "cell_type": "code",
   "execution_count": 9,
   "id": "7c017955",
   "metadata": {},
   "outputs": [
    {
     "data": {
      "text/plain": [
       "1131"
      ]
     },
     "execution_count": 9,
     "metadata": {},
     "output_type": "execute_result"
    }
   ],
   "source": [
    "(y_val == churn_decision).sum()"
   ]
  },
  {
   "cell_type": "code",
   "execution_count": 10,
   "id": "3c076fe0",
   "metadata": {},
   "outputs": [
    {
     "data": {
      "text/plain": [
       "0.8026969481902059"
      ]
     },
     "execution_count": 10,
     "metadata": {},
     "output_type": "execute_result"
    }
   ],
   "source": [
    "(y_val == churn_decision).sum()/len(y_val)"
   ]
  },
  {
   "cell_type": "code",
   "execution_count": 11,
   "id": "017db265",
   "metadata": {},
   "outputs": [
    {
     "data": {
      "text/plain": [
       "array([0.  , 0.05, 0.1 , 0.15, 0.2 , 0.25, 0.3 , 0.35, 0.4 , 0.45, 0.5 ,\n",
       "       0.55, 0.6 , 0.65, 0.7 , 0.75, 0.8 , 0.85, 0.9 , 0.95, 1.  ])"
      ]
     },
     "execution_count": 11,
     "metadata": {},
     "output_type": "execute_result"
    }
   ],
   "source": [
    "thresholds = np.linspace(0, 1, 21)\n",
    "thresholds"
   ]
  },
  {
   "cell_type": "code",
   "execution_count": 12,
   "id": "cb008f97",
   "metadata": {},
   "outputs": [
    {
     "name": "stdout",
     "output_type": "stream",
     "text": [
      ".0.00 : 0.274\n",
      ".0.05 : 0.510\n",
      ".0.10 : 0.591\n",
      ".0.15 : 0.666\n",
      ".0.20 : 0.710\n",
      ".0.25 : 0.738\n",
      ".0.30 : 0.760\n",
      ".0.35 : 0.773\n",
      ".0.40 : 0.785\n",
      ".0.45 : 0.793\n",
      ".0.50 : 0.803\n",
      ".0.55 : 0.801\n",
      ".0.60 : 0.795\n",
      ".0.65 : 0.786\n",
      ".0.70 : 0.766\n",
      ".0.75 : 0.744\n",
      ".0.80 : 0.733\n",
      ".0.85 : 0.726\n",
      ".0.90 : 0.726\n",
      ".0.95 : 0.726\n",
      ".1.00 : 0.726\n"
     ]
    }
   ],
   "source": [
    "scores = []\n",
    "for threshold in thresholds:\n",
    "    churn_decision = (y_pred >= threshold)\n",
    "    accuracy = (y_val == churn_decision).sum()/len(y_val)\n",
    "    print('.%.2f : %.3f' %(threshold, accuracy))\n",
    "    scores.append(accuracy)"
   ]
  },
  {
   "cell_type": "code",
   "execution_count": 13,
   "id": "08e71af5",
   "metadata": {},
   "outputs": [
    {
     "data": {
      "text/plain": [
       "[<matplotlib.lines.Line2D at 0x1c47681a940>]"
      ]
     },
     "execution_count": 13,
     "metadata": {},
     "output_type": "execute_result"
    },
    {
     "data": {
      "image/png": "[encoded data removed]",
      "text/plain": [
       "<Figure size 432x288 with 1 Axes>"
      ]
     },
     "metadata": {
      "needs_background": "light"
     },
     "output_type": "display_data"
    }
   ],
   "source": [
    "plt.plot(thresholds, scores)"
   ]
  },
  {
   "cell_type": "code",
   "execution_count": 14,
   "id": "c3bf28c7",
   "metadata": {},
   "outputs": [],
   "source": [
    "from sklearn.metrics import accuracy_score"
   ]
  },
  {
   "cell_type": "code",
   "execution_count": 15,
   "id": "6e14b8b8",
   "metadata": {},
   "outputs": [
    {
     "data": {
      "text/plain": [
       "0.7260468417317246"
      ]
     },
     "execution_count": 15,
     "metadata": {},
     "output_type": "execute_result"
    }
   ],
   "source": [
    "accuracy_score(y_val, churn_decision)"
   ]
  },
  {
   "cell_type": "markdown",
   "id": "a563c846",
   "metadata": {},
   "source": [
    "# Confusion Matrix"
   ]
  },
  {
   "cell_type": "code",
   "execution_count": 16,
   "id": "d4a3eb68",
   "metadata": {},
   "outputs": [],
   "source": [
    "actual_positive = (y_val == 1)\n",
    "actual_negative = (y_val == 0)"
   ]
  },
  {
   "cell_type": "code",
   "execution_count": 17,
   "id": "32fbf944",
   "metadata": {},
   "outputs": [],
   "source": [
    "t = 0.5\n",
    "predict_positive = (y_pred >= t )\n",
    "predict_negative = (y_pred < t )"
   ]
  },
  {
   "cell_type": "code",
   "execution_count": 18,
   "id": "dc287579",
   "metadata": {},
   "outputs": [],
   "source": [
    "tp = (actual_positive & predict_positive).sum()\n",
    "tn = (actual_negative & predict_negative).sum()"
   ]
  },
  {
   "cell_type": "code",
   "execution_count": 19,
   "id": "53f6e9d7",
   "metadata": {},
   "outputs": [],
   "source": [
    "fp = (predict_positive & actual_negative).sum()\n",
    "fn = (predict_negative & actual_positive).sum()"
   ]
  },
  {
   "cell_type": "code",
   "execution_count": 20,
   "id": "2f42acf9",
   "metadata": {},
   "outputs": [],
   "source": [
    "confusion_matrix = np.array([\n",
    "    [tn, fp],\n",
    "    [fn, tp]\n",
    "])"
   ]
  },
  {
   "cell_type": "code",
   "execution_count": 21,
   "id": "2915a824",
   "metadata": {},
   "outputs": [
    {
     "data": {
      "text/plain": [
       "array([[922, 101],\n",
       "       [177, 209]])"
      ]
     },
     "execution_count": 21,
     "metadata": {},
     "output_type": "execute_result"
    }
   ],
   "source": [
    "confusion_matrix"
   ]
  },
  {
   "cell_type": "code",
   "execution_count": 22,
   "id": "379fb4ea",
   "metadata": {},
   "outputs": [
    {
     "data": {
      "text/plain": [
       "array([[0.65, 0.07],\n",
       "       [0.13, 0.15]])"
      ]
     },
     "execution_count": 22,
     "metadata": {},
     "output_type": "execute_result"
    }
   ],
   "source": [
    "# normalize\n",
    "\n",
    "(confusion_matrix/confusion_matrix.sum()).round(2)"
   ]
  },
  {
   "cell_type": "markdown",
   "id": "de5e614e",
   "metadata": {},
   "source": [
    "# Precision & recall"
   ]
  },
  {
   "cell_type": "code",
   "execution_count": 23,
   "id": "13a0d2a3",
   "metadata": {},
   "outputs": [
    {
     "data": {
      "text/plain": [
       "0.6741935483870968"
      ]
     },
     "execution_count": 23,
     "metadata": {},
     "output_type": "execute_result"
    }
   ],
   "source": [
    "precision = tp / (tp+fp)\n",
    "precision"
   ]
  },
  {
   "cell_type": "code",
   "execution_count": 24,
   "id": "1d791e7e",
   "metadata": {},
   "outputs": [
    {
     "data": {
      "text/plain": [
       "0.5414507772020726"
      ]
     },
     "execution_count": 24,
     "metadata": {},
     "output_type": "execute_result"
    }
   ],
   "source": [
    "recall = tp / (tp+fn)\n",
    "recall"
   ]
  },
  {
   "cell_type": "markdown",
   "id": "d838ef78",
   "metadata": {},
   "source": [
    "# ROC Curve"
   ]
  },
  {
   "cell_type": "code",
   "execution_count": 25,
   "id": "3e81fb74",
   "metadata": {},
   "outputs": [],
   "source": [
    "fpr = fp / (tn+fp)\n",
    "tpr = tp / (fn+tp)"
   ]
  },
  {
   "cell_type": "markdown",
   "id": "bf43979b",
   "metadata": {},
   "source": [
    "minimize fpr and maximize tpr"
   ]
  },
  {
   "cell_type": "code",
   "execution_count": 26,
   "id": "49a60588",
   "metadata": {},
   "outputs": [
    {
     "data": {
      "text/plain": [
       "(0.5414507772020726, 0.09872922776148582)"
      ]
     },
     "execution_count": 26,
     "metadata": {},
     "output_type": "execute_result"
    }
   ],
   "source": [
    "tpr, fpr"
   ]
  },
  {
   "cell_type": "code",
   "execution_count": 27,
   "id": "08f9dcac",
   "metadata": {},
   "outputs": [],
   "source": [
    "thresholds = np.linspace(0, 1, 101)\n",
    "\n",
    "scores = []\n",
    "\n",
    "for threshold in thresholds:\n",
    "    actual_positive = (y_val == 1)\n",
    "    actual_negative = (y_val == 0)\n",
    "    predict_positive = (y_pred >= threshold)\n",
    "    predict_negative = (y_pred < threshold)\n",
    "    tp = (actual_positive & predict_positive).sum()\n",
    "    tn = (actual_negative & predict_negative).sum()\n",
    "    fp = (predict_positive & actual_negative).sum()\n",
    "    fn = (predict_negative & actual_positive).sum()\n",
    "    scores.append((threshold, tp, tn, fp, fn))"
   ]
  },
  {
   "cell_type": "code",
   "execution_count": 28,
   "id": "51f6cd12",
   "metadata": {},
   "outputs": [
    {
     "data": {
      "text/plain": [
       "[(0.0, 386, 0, 1023, 0),\n",
       " (0.01, 385, 112, 911, 1),\n",
       " (0.02, 384, 192, 831, 2),\n",
       " (0.03, 383, 257, 766, 3),\n",
       " (0.04, 381, 308, 715, 5),\n",
       " (0.05, 379, 340, 683, 7),\n",
       " (0.06, 377, 362, 661, 9),\n",
       " (0.07, 372, 381, 642, 14),\n",
       " (0.08, 371, 410, 613, 15),\n",
       " (0.09, 369, 442, 581, 17)]"
      ]
     },
     "execution_count": 28,
     "metadata": {},
     "output_type": "execute_result"
    }
   ],
   "source": [
    "scores[:10]"
   ]
  },
  {
   "cell_type": "code",
   "execution_count": 29,
   "id": "1ac9d54c",
   "metadata": {},
   "outputs": [
    {
     "data": {
      "text/html": [
       "<div>\n",
       "<style scoped>\n",
       "    .dataframe tbody tr th:only-of-type {\n",
       "        vertical-align: middle;\n",
       "    }\n",
       "\n",
       "    .dataframe tbody tr th {\n",
       "        vertical-align: top;\n",
       "    }\n",
       "\n",
       "    .dataframe thead th {\n",
       "        text-align: right;\n",
       "    }\n",
       "</style>\n",
       "<table border=\"1\" class=\"dataframe\">\n",
       "  <thead>\n",
       "    <tr style=\"text-align: right;\">\n",
       "      <th></th>\n",
       "      <th>threshold</th>\n",
       "      <th>tp</th>\n",
       "      <th>tn</th>\n",
       "      <th>fp</th>\n",
       "      <th>fn</th>\n",
       "    </tr>\n",
       "  </thead>\n",
       "  <tbody>\n",
       "    <tr>\n",
       "      <th>0</th>\n",
       "      <td>0.00</td>\n",
       "      <td>386</td>\n",
       "      <td>0</td>\n",
       "      <td>1023</td>\n",
       "      <td>0</td>\n",
       "    </tr>\n",
       "    <tr>\n",
       "      <th>1</th>\n",
       "      <td>0.01</td>\n",
       "      <td>385</td>\n",
       "      <td>112</td>\n",
       "      <td>911</td>\n",
       "      <td>1</td>\n",
       "    </tr>\n",
       "    <tr>\n",
       "      <th>2</th>\n",
       "      <td>0.02</td>\n",
       "      <td>384</td>\n",
       "      <td>192</td>\n",
       "      <td>831</td>\n",
       "      <td>2</td>\n",
       "    </tr>\n",
       "    <tr>\n",
       "      <th>3</th>\n",
       "      <td>0.03</td>\n",
       "      <td>383</td>\n",
       "      <td>257</td>\n",
       "      <td>766</td>\n",
       "      <td>3</td>\n",
       "    </tr>\n",
       "    <tr>\n",
       "      <th>4</th>\n",
       "      <td>0.04</td>\n",
       "      <td>381</td>\n",
       "      <td>308</td>\n",
       "      <td>715</td>\n",
       "      <td>5</td>\n",
       "    </tr>\n",
       "  </tbody>\n",
       "</table>\n",
       "</div>"
      ],
      "text/plain": [
       "   threshold   tp   tn    fp  fn\n",
       "0       0.00  386    0  1023   0\n",
       "1       0.01  385  112   911   1\n",
       "2       0.02  384  192   831   2\n",
       "3       0.03  383  257   766   3\n",
       "4       0.04  381  308   715   5"
      ]
     },
     "execution_count": 29,
     "metadata": {},
     "output_type": "execute_result"
    }
   ],
   "source": [
    "columns = ['threshold', 'tp', 'tn', 'fp', 'fn']\n",
    "scores_df = pd.DataFrame(scores, columns = columns)\n",
    "scores_df.head()"
   ]
  },
  {
   "cell_type": "code",
   "execution_count": 30,
   "id": "c22831ac",
   "metadata": {},
   "outputs": [
    {
     "data": {
      "text/html": [
       "<div>\n",
       "<style scoped>\n",
       "    .dataframe tbody tr th:only-of-type {\n",
       "        vertical-align: middle;\n",
       "    }\n",
       "\n",
       "    .dataframe tbody tr th {\n",
       "        vertical-align: top;\n",
       "    }\n",
       "\n",
       "    .dataframe thead th {\n",
       "        text-align: right;\n",
       "    }\n",
       "</style>\n",
       "<table border=\"1\" class=\"dataframe\">\n",
       "  <thead>\n",
       "    <tr style=\"text-align: right;\">\n",
       "      <th></th>\n",
       "      <th>threshold</th>\n",
       "      <th>tp</th>\n",
       "      <th>tn</th>\n",
       "      <th>fp</th>\n",
       "      <th>fn</th>\n",
       "    </tr>\n",
       "  </thead>\n",
       "  <tbody>\n",
       "    <tr>\n",
       "      <th>0</th>\n",
       "      <td>0.0</td>\n",
       "      <td>386</td>\n",
       "      <td>0</td>\n",
       "      <td>1023</td>\n",
       "      <td>0</td>\n",
       "    </tr>\n",
       "    <tr>\n",
       "      <th>10</th>\n",
       "      <td>0.1</td>\n",
       "      <td>366</td>\n",
       "      <td>467</td>\n",
       "      <td>556</td>\n",
       "      <td>20</td>\n",
       "    </tr>\n",
       "    <tr>\n",
       "      <th>20</th>\n",
       "      <td>0.2</td>\n",
       "      <td>333</td>\n",
       "      <td>667</td>\n",
       "      <td>356</td>\n",
       "      <td>53</td>\n",
       "    </tr>\n",
       "    <tr>\n",
       "      <th>30</th>\n",
       "      <td>0.3</td>\n",
       "      <td>284</td>\n",
       "      <td>787</td>\n",
       "      <td>236</td>\n",
       "      <td>102</td>\n",
       "    </tr>\n",
       "    <tr>\n",
       "      <th>40</th>\n",
       "      <td>0.4</td>\n",
       "      <td>249</td>\n",
       "      <td>857</td>\n",
       "      <td>166</td>\n",
       "      <td>137</td>\n",
       "    </tr>\n",
       "    <tr>\n",
       "      <th>50</th>\n",
       "      <td>0.5</td>\n",
       "      <td>209</td>\n",
       "      <td>922</td>\n",
       "      <td>101</td>\n",
       "      <td>177</td>\n",
       "    </tr>\n",
       "    <tr>\n",
       "      <th>60</th>\n",
       "      <td>0.6</td>\n",
       "      <td>150</td>\n",
       "      <td>970</td>\n",
       "      <td>53</td>\n",
       "      <td>236</td>\n",
       "    </tr>\n",
       "    <tr>\n",
       "      <th>70</th>\n",
       "      <td>0.7</td>\n",
       "      <td>75</td>\n",
       "      <td>1004</td>\n",
       "      <td>19</td>\n",
       "      <td>311</td>\n",
       "    </tr>\n",
       "    <tr>\n",
       "      <th>80</th>\n",
       "      <td>0.8</td>\n",
       "      <td>11</td>\n",
       "      <td>1022</td>\n",
       "      <td>1</td>\n",
       "      <td>375</td>\n",
       "    </tr>\n",
       "    <tr>\n",
       "      <th>90</th>\n",
       "      <td>0.9</td>\n",
       "      <td>0</td>\n",
       "      <td>1023</td>\n",
       "      <td>0</td>\n",
       "      <td>386</td>\n",
       "    </tr>\n",
       "    <tr>\n",
       "      <th>100</th>\n",
       "      <td>1.0</td>\n",
       "      <td>0</td>\n",
       "      <td>1023</td>\n",
       "      <td>0</td>\n",
       "      <td>386</td>\n",
       "    </tr>\n",
       "  </tbody>\n",
       "</table>\n",
       "</div>"
      ],
      "text/plain": [
       "     threshold   tp    tn    fp   fn\n",
       "0          0.0  386     0  1023    0\n",
       "10         0.1  366   467   556   20\n",
       "20         0.2  333   667   356   53\n",
       "30         0.3  284   787   236  102\n",
       "40         0.4  249   857   166  137\n",
       "50         0.5  209   922   101  177\n",
       "60         0.6  150   970    53  236\n",
       "70         0.7   75  1004    19  311\n",
       "80         0.8   11  1022     1  375\n",
       "90         0.9    0  1023     0  386\n",
       "100        1.0    0  1023     0  386"
      ]
     },
     "execution_count": 30,
     "metadata": {},
     "output_type": "execute_result"
    }
   ],
   "source": [
    "scores_df[::10]"
   ]
  },
  {
   "cell_type": "code",
   "execution_count": 31,
   "id": "d38d430d",
   "metadata": {},
   "outputs": [
    {
     "data": {
      "text/html": [
       "<div>\n",
       "<style scoped>\n",
       "    .dataframe tbody tr th:only-of-type {\n",
       "        vertical-align: middle;\n",
       "    }\n",
       "\n",
       "    .dataframe tbody tr th {\n",
       "        vertical-align: top;\n",
       "    }\n",
       "\n",
       "    .dataframe thead th {\n",
       "        text-align: right;\n",
       "    }\n",
       "</style>\n",
       "<table border=\"1\" class=\"dataframe\">\n",
       "  <thead>\n",
       "    <tr style=\"text-align: right;\">\n",
       "      <th></th>\n",
       "      <th>threshold</th>\n",
       "      <th>tp</th>\n",
       "      <th>tn</th>\n",
       "      <th>fp</th>\n",
       "      <th>fn</th>\n",
       "      <th>tpr</th>\n",
       "      <th>fpr</th>\n",
       "    </tr>\n",
       "  </thead>\n",
       "  <tbody>\n",
       "    <tr>\n",
       "      <th>0</th>\n",
       "      <td>0.00</td>\n",
       "      <td>386</td>\n",
       "      <td>0</td>\n",
       "      <td>1023</td>\n",
       "      <td>0</td>\n",
       "      <td>1.000000</td>\n",
       "      <td>1.000000</td>\n",
       "    </tr>\n",
       "    <tr>\n",
       "      <th>1</th>\n",
       "      <td>0.01</td>\n",
       "      <td>385</td>\n",
       "      <td>112</td>\n",
       "      <td>911</td>\n",
       "      <td>1</td>\n",
       "      <td>0.997409</td>\n",
       "      <td>0.890518</td>\n",
       "    </tr>\n",
       "    <tr>\n",
       "      <th>2</th>\n",
       "      <td>0.02</td>\n",
       "      <td>384</td>\n",
       "      <td>192</td>\n",
       "      <td>831</td>\n",
       "      <td>2</td>\n",
       "      <td>0.994819</td>\n",
       "      <td>0.812317</td>\n",
       "    </tr>\n",
       "    <tr>\n",
       "      <th>3</th>\n",
       "      <td>0.03</td>\n",
       "      <td>383</td>\n",
       "      <td>257</td>\n",
       "      <td>766</td>\n",
       "      <td>3</td>\n",
       "      <td>0.992228</td>\n",
       "      <td>0.748778</td>\n",
       "    </tr>\n",
       "    <tr>\n",
       "      <th>4</th>\n",
       "      <td>0.04</td>\n",
       "      <td>381</td>\n",
       "      <td>308</td>\n",
       "      <td>715</td>\n",
       "      <td>5</td>\n",
       "      <td>0.987047</td>\n",
       "      <td>0.698925</td>\n",
       "    </tr>\n",
       "  </tbody>\n",
       "</table>\n",
       "</div>"
      ],
      "text/plain": [
       "   threshold   tp   tn    fp  fn       tpr       fpr\n",
       "0       0.00  386    0  1023   0  1.000000  1.000000\n",
       "1       0.01  385  112   911   1  0.997409  0.890518\n",
       "2       0.02  384  192   831   2  0.994819  0.812317\n",
       "3       0.03  383  257   766   3  0.992228  0.748778\n",
       "4       0.04  381  308   715   5  0.987047  0.698925"
      ]
     },
     "execution_count": 31,
     "metadata": {},
     "output_type": "execute_result"
    }
   ],
   "source": [
    "scores_df['tpr'] = scores_df.tp / (scores_df.tp + scores_df.fn)\n",
    "scores_df['fpr'] = scores_df.fp / (scores_df.fp + scores_df.tn)\n",
    "scores_df.head()"
   ]
  },
  {
   "cell_type": "code",
   "execution_count": 32,
   "id": "2c9900d2",
   "metadata": {},
   "outputs": [
    {
     "data": {
      "text/plain": [
       "<matplotlib.legend.Legend at 0x1c4766f1df0>"
      ]
     },
     "execution_count": 32,
     "metadata": {},
     "output_type": "execute_result"
    },
    {
     "data": {
      "image/png": "[encoded data removed]",
      "text/plain": [
       "<Figure size 432x288 with 1 Axes>"
      ]
     },
     "metadata": {
      "needs_background": "light"
     },
     "output_type": "display_data"
    }
   ],
   "source": [
    "plt.plot(scores_df.threshold, scores_df.tpr, label='TPR')\n",
    "plt.plot(scores_df.threshold, scores_df.fpr, label='FPR')\n",
    "plt.legend()"
   ]
  },
  {
   "cell_type": "markdown",
   "id": "1a8a4103",
   "metadata": {},
   "source": [
    "## Random Model"
   ]
  },
  {
   "cell_type": "code",
   "execution_count": 33,
   "id": "73de35fd",
   "metadata": {},
   "outputs": [
    {
     "data": {
      "text/plain": [
       "array([4.17022005e-01, 7.20324493e-01, 1.14374817e-04, ...,\n",
       "       7.73916250e-01, 3.34276405e-01, 8.89982208e-02])"
      ]
     },
     "execution_count": 33,
     "metadata": {},
     "output_type": "execute_result"
    }
   ],
   "source": [
    "np.random.seed(1)\n",
    "y_rand = np.random.uniform(0, 1, size=len(y_val))\n",
    "y_rand"
   ]
  },
  {
   "cell_type": "code",
   "execution_count": 34,
   "id": "a67d5746",
   "metadata": {},
   "outputs": [
    {
     "data": {
      "text/plain": [
       "0.5017743080198722"
      ]
     },
     "execution_count": 34,
     "metadata": {},
     "output_type": "execute_result"
    }
   ],
   "source": [
    "((y_rand >= 0.5) == y_val).mean()"
   ]
  },
  {
   "cell_type": "code",
   "execution_count": 35,
   "id": "baad06fd",
   "metadata": {},
   "outputs": [],
   "source": [
    "def tpr_fpr_dataframe(y_val, y_pred):\n",
    "    thresholds = np.linspace(0, 1, 101)\n",
    "\n",
    "    scores = []\n",
    "\n",
    "    for threshold in thresholds:\n",
    "        actual_positive = (y_val == 1)\n",
    "        actual_negative = (y_val == 0)\n",
    "        predict_positive = (y_pred >= threshold)\n",
    "        predict_negative = (y_pred < threshold)\n",
    "        tp = (actual_positive & predict_positive).sum()\n",
    "        tn = (actual_negative & predict_negative).sum()\n",
    "        fp = (predict_positive & actual_negative).sum()\n",
    "        fn = (predict_negative & actual_positive).sum()\n",
    "        scores.append((threshold, tp, tn, fp, fn))\n",
    "        \n",
    "    columns = ['threshold', 'tp', 'tn', 'fp', 'fn']\n",
    "    scores_df = pd.DataFrame(scores, columns = columns)\n",
    "\n",
    "    scores_df['tpr'] = scores_df.tp / (scores_df.tp + scores_df.fn)\n",
    "    scores_df['fpr'] = scores_df.fp / (scores_df.fp + scores_df.tn)\n",
    "\n",
    "    return scores_df"
   ]
  },
  {
   "cell_type": "code",
   "execution_count": 36,
   "id": "09bf07ca",
   "metadata": {},
   "outputs": [
    {
     "data": {
      "text/html": [
       "<div>\n",
       "<style scoped>\n",
       "    .dataframe tbody tr th:only-of-type {\n",
       "        vertical-align: middle;\n",
       "    }\n",
       "\n",
       "    .dataframe tbody tr th {\n",
       "        vertical-align: top;\n",
       "    }\n",
       "\n",
       "    .dataframe thead th {\n",
       "        text-align: right;\n",
       "    }\n",
       "</style>\n",
       "<table border=\"1\" class=\"dataframe\">\n",
       "  <thead>\n",
       "    <tr style=\"text-align: right;\">\n",
       "      <th></th>\n",
       "      <th>threshold</th>\n",
       "      <th>tp</th>\n",
       "      <th>tn</th>\n",
       "      <th>fp</th>\n",
       "      <th>fn</th>\n",
       "      <th>tpr</th>\n",
       "      <th>fpr</th>\n",
       "    </tr>\n",
       "  </thead>\n",
       "  <tbody>\n",
       "    <tr>\n",
       "      <th>0</th>\n",
       "      <td>0.00</td>\n",
       "      <td>386</td>\n",
       "      <td>0</td>\n",
       "      <td>1023</td>\n",
       "      <td>0</td>\n",
       "      <td>1.000000</td>\n",
       "      <td>1.000000</td>\n",
       "    </tr>\n",
       "    <tr>\n",
       "      <th>1</th>\n",
       "      <td>0.01</td>\n",
       "      <td>382</td>\n",
       "      <td>10</td>\n",
       "      <td>1013</td>\n",
       "      <td>4</td>\n",
       "      <td>0.989637</td>\n",
       "      <td>0.990225</td>\n",
       "    </tr>\n",
       "    <tr>\n",
       "      <th>2</th>\n",
       "      <td>0.02</td>\n",
       "      <td>379</td>\n",
       "      <td>30</td>\n",
       "      <td>993</td>\n",
       "      <td>7</td>\n",
       "      <td>0.981865</td>\n",
       "      <td>0.970674</td>\n",
       "    </tr>\n",
       "    <tr>\n",
       "      <th>3</th>\n",
       "      <td>0.03</td>\n",
       "      <td>375</td>\n",
       "      <td>44</td>\n",
       "      <td>979</td>\n",
       "      <td>11</td>\n",
       "      <td>0.971503</td>\n",
       "      <td>0.956989</td>\n",
       "    </tr>\n",
       "    <tr>\n",
       "      <th>4</th>\n",
       "      <td>0.04</td>\n",
       "      <td>372</td>\n",
       "      <td>54</td>\n",
       "      <td>969</td>\n",
       "      <td>14</td>\n",
       "      <td>0.963731</td>\n",
       "      <td>0.947214</td>\n",
       "    </tr>\n",
       "  </tbody>\n",
       "</table>\n",
       "</div>"
      ],
      "text/plain": [
       "   threshold   tp  tn    fp  fn       tpr       fpr\n",
       "0       0.00  386   0  1023   0  1.000000  1.000000\n",
       "1       0.01  382  10  1013   4  0.989637  0.990225\n",
       "2       0.02  379  30   993   7  0.981865  0.970674\n",
       "3       0.03  375  44   979  11  0.971503  0.956989\n",
       "4       0.04  372  54   969  14  0.963731  0.947214"
      ]
     },
     "execution_count": 36,
     "metadata": {},
     "output_type": "execute_result"
    }
   ],
   "source": [
    "scores_df_random  = tpr_fpr_dataframe(y_val, y_rand)\n",
    "scores_df_random.head()"
   ]
  },
  {
   "cell_type": "code",
   "execution_count": 37,
   "id": "866dcd69",
   "metadata": {},
   "outputs": [
    {
     "data": {
      "text/plain": [
       "<matplotlib.legend.Legend at 0x1c477184b50>"
      ]
     },
     "execution_count": 37,
     "metadata": {},
     "output_type": "execute_result"
    },
    {
     "data": {
      "image/png": "[encoded data removed]",
      "text/plain": [
       "<Figure size 432x288 with 1 Axes>"
      ]
     },
     "metadata": {
      "needs_background": "light"
     },
     "output_type": "display_data"
    }
   ],
   "source": [
    "plt.plot(scores_df_random.threshold, scores_df_random.tpr, label='TPR')\n",
    "plt.plot(scores_df_random.threshold, scores_df_random.fpr, label='FPR')\n",
    "plt.legend()"
   ]
  },
  {
   "cell_type": "markdown",
   "id": "6d433a18",
   "metadata": {},
   "source": [
    "## Ideal Model"
   ]
  },
  {
   "cell_type": "code",
   "execution_count": 38,
   "id": "0d1305f1",
   "metadata": {},
   "outputs": [],
   "source": [
    "num_pos = (y_val == 1).sum()\n",
    "num_neg = (y_val == 0).sum()"
   ]
  },
  {
   "cell_type": "code",
   "execution_count": 39,
   "id": "e45ea48b",
   "metadata": {},
   "outputs": [
    {
     "data": {
      "text/plain": [
       "(386, 1023)"
      ]
     },
     "execution_count": 39,
     "metadata": {},
     "output_type": "execute_result"
    }
   ],
   "source": [
    "num_pos, num_neg"
   ]
  },
  {
   "cell_type": "code",
   "execution_count": 40,
   "id": "92142d52",
   "metadata": {},
   "outputs": [
    {
     "data": {
      "text/plain": [
       "array([0, 0, 0, ..., 1, 1, 1])"
      ]
     },
     "execution_count": 40,
     "metadata": {},
     "output_type": "execute_result"
    }
   ],
   "source": [
    "y_ideal = np.repeat((0,1), [num_neg, num_pos])\n",
    "y_ideal"
   ]
  },
  {
   "cell_type": "code",
   "execution_count": 41,
   "id": "21729f7c",
   "metadata": {},
   "outputs": [
    {
     "data": {
      "text/plain": [
       "array([0.00000000e+00, 7.10227273e-04, 1.42045455e-03, ...,\n",
       "       9.98579545e-01, 9.99289773e-01, 1.00000000e+00])"
      ]
     },
     "execution_count": 41,
     "metadata": {},
     "output_type": "execute_result"
    }
   ],
   "source": [
    "y_ideal_pred = np.linspace(0, 1, len(y_val))\n",
    "y_ideal_pred"
   ]
  },
  {
   "cell_type": "code",
   "execution_count": 42,
   "id": "aff9f28b",
   "metadata": {},
   "outputs": [
    {
     "data": {
      "text/plain": [
       "0.7260468417317246"
      ]
     },
     "execution_count": 42,
     "metadata": {},
     "output_type": "execute_result"
    }
   ],
   "source": [
    "1 - y_val.mean()"
   ]
  },
  {
   "cell_type": "code",
   "execution_count": 43,
   "id": "17780b8b",
   "metadata": {},
   "outputs": [
    {
     "data": {
      "text/plain": [
       "1.0"
      ]
     },
     "execution_count": 43,
     "metadata": {},
     "output_type": "execute_result"
    }
   ],
   "source": [
    "((y_ideal_pred >= 0.726) == y_ideal).mean()"
   ]
  },
  {
   "cell_type": "code",
   "execution_count": 44,
   "id": "11b96f8f",
   "metadata": {},
   "outputs": [
    {
     "data": {
      "text/html": [
       "<div>\n",
       "<style scoped>\n",
       "    .dataframe tbody tr th:only-of-type {\n",
       "        vertical-align: middle;\n",
       "    }\n",
       "\n",
       "    .dataframe tbody tr th {\n",
       "        vertical-align: top;\n",
       "    }\n",
       "\n",
       "    .dataframe thead th {\n",
       "        text-align: right;\n",
       "    }\n",
       "</style>\n",
       "<table border=\"1\" class=\"dataframe\">\n",
       "  <thead>\n",
       "    <tr style=\"text-align: right;\">\n",
       "      <th></th>\n",
       "      <th>threshold</th>\n",
       "      <th>tp</th>\n",
       "      <th>tn</th>\n",
       "      <th>fp</th>\n",
       "      <th>fn</th>\n",
       "      <th>tpr</th>\n",
       "      <th>fpr</th>\n",
       "    </tr>\n",
       "  </thead>\n",
       "  <tbody>\n",
       "    <tr>\n",
       "      <th>0</th>\n",
       "      <td>0.00</td>\n",
       "      <td>386</td>\n",
       "      <td>0</td>\n",
       "      <td>1023</td>\n",
       "      <td>0</td>\n",
       "      <td>1.0</td>\n",
       "      <td>1.000000</td>\n",
       "    </tr>\n",
       "    <tr>\n",
       "      <th>1</th>\n",
       "      <td>0.01</td>\n",
       "      <td>386</td>\n",
       "      <td>15</td>\n",
       "      <td>1008</td>\n",
       "      <td>0</td>\n",
       "      <td>1.0</td>\n",
       "      <td>0.985337</td>\n",
       "    </tr>\n",
       "    <tr>\n",
       "      <th>2</th>\n",
       "      <td>0.02</td>\n",
       "      <td>386</td>\n",
       "      <td>29</td>\n",
       "      <td>994</td>\n",
       "      <td>0</td>\n",
       "      <td>1.0</td>\n",
       "      <td>0.971652</td>\n",
       "    </tr>\n",
       "    <tr>\n",
       "      <th>3</th>\n",
       "      <td>0.03</td>\n",
       "      <td>386</td>\n",
       "      <td>43</td>\n",
       "      <td>980</td>\n",
       "      <td>0</td>\n",
       "      <td>1.0</td>\n",
       "      <td>0.957967</td>\n",
       "    </tr>\n",
       "    <tr>\n",
       "      <th>4</th>\n",
       "      <td>0.04</td>\n",
       "      <td>386</td>\n",
       "      <td>57</td>\n",
       "      <td>966</td>\n",
       "      <td>0</td>\n",
       "      <td>1.0</td>\n",
       "      <td>0.944282</td>\n",
       "    </tr>\n",
       "  </tbody>\n",
       "</table>\n",
       "</div>"
      ],
      "text/plain": [
       "   threshold   tp  tn    fp  fn  tpr       fpr\n",
       "0       0.00  386   0  1023   0  1.0  1.000000\n",
       "1       0.01  386  15  1008   0  1.0  0.985337\n",
       "2       0.02  386  29   994   0  1.0  0.971652\n",
       "3       0.03  386  43   980   0  1.0  0.957967\n",
       "4       0.04  386  57   966   0  1.0  0.944282"
      ]
     },
     "execution_count": 44,
     "metadata": {},
     "output_type": "execute_result"
    }
   ],
   "source": [
    "scores_df_ideal  = tpr_fpr_dataframe(y_ideal, y_ideal_pred)\n",
    "scores_df_ideal.head()"
   ]
  },
  {
   "cell_type": "code",
   "execution_count": 45,
   "id": "f76f2e95",
   "metadata": {},
   "outputs": [
    {
     "data": {
      "text/plain": [
       "[<matplotlib.lines.Line2D at 0x1c477206df0>]"
      ]
     },
     "execution_count": 45,
     "metadata": {},
     "output_type": "execute_result"
    },
    {
     "data": {
      "image/png": "[encoded data removed]",
      "text/plain": [
       "<Figure size 432x288 with 1 Axes>"
      ]
     },
     "metadata": {
      "needs_background": "light"
     },
     "output_type": "display_data"
    }
   ],
   "source": [
    "plt.plot(scores_df.threshold, scores_df.tpr, label='TPR')\n",
    "plt.plot(scores_df.threshold, scores_df.fpr, label='FPR')\n",
    "\n",
    "plt.plot(scores_df_ideal.threshold, scores_df_ideal.tpr, label='TPR', color = 'black')\n",
    "plt.plot(scores_df_ideal.threshold, scores_df_ideal.fpr, label='FPR', color = 'red')\n"
   ]
  },
  {
   "cell_type": "code",
   "execution_count": 47,
   "id": "84335265",
   "metadata": {},
   "outputs": [
    {
     "data": {
      "text/plain": [
       "[<matplotlib.lines.Line2D at 0x1c477136e20>]"
      ]
     },
     "execution_count": 47,
     "metadata": {},
     "output_type": "execute_result"
    },
    {
     "data": {
      "image/png": "[encoded data removed]",
      "text/plain": [
       "<Figure size 432x288 with 1 Axes>"
      ]
     },
     "metadata": {
      "needs_background": "light"
     },
     "output_type": "display_data"
    }
   ],
   "source": [
    "plt.plot(scores_df.fpr, scores_df.tpr, label='actual')\n",
    "plt.plot(scores_df_random.fpr, scores_df_random.tpr, label='random')\n",
    "plt.plot(scores_df_ideal.fpr, scores_df_ideal.tpr, label='ideal')"
   ]
  },
  {
   "cell_type": "code",
   "execution_count": 48,
   "id": "29feadbd",
   "metadata": {},
   "outputs": [
    {
     "data": {
      "text/plain": [
       "[<matplotlib.lines.Line2D at 0x1c4772f9220>]"
      ]
     },
     "execution_count": 48,
     "metadata": {},
     "output_type": "execute_result"
    },
    {
     "data": {
      "image/png": "[encoded data removed]",
      "text/plain": [
       "<Figure size 432x288 with 1 Axes>"
      ]
     },
     "metadata": {
      "needs_background": "light"
     },
     "output_type": "display_data"
    }
   ],
   "source": [
    "plt.plot(scores_df.fpr, scores_df.tpr, label='actual')\n",
    "plt.plot([0,1], [0,1], label='random')\n"
   ]
  },
  {
   "cell_type": "code",
   "execution_count": 50,
   "id": "332d90f1",
   "metadata": {},
   "outputs": [],
   "source": [
    "from sklearn.metrics import roc_curve"
   ]
  },
  {
   "cell_type": "code",
   "execution_count": 54,
   "id": "4d65f2d3",
   "metadata": {},
   "outputs": [],
   "source": [
    "fpr, tpr, thersholds = roc_curve(y_val, y_pred)"
   ]
  },
  {
   "cell_type": "code",
   "execution_count": 56,
   "id": "b63abab5",
   "metadata": {},
   "outputs": [
    {
     "data": {
      "text/plain": [
       "<matplotlib.legend.Legend at 0x1c4785ffd00>"
      ]
     },
     "execution_count": 56,
     "metadata": {},
     "output_type": "execute_result"
    },
    {
     "data": {
      "image/png": "[encoded data removed]",
      "text/plain": [
       "<Figure size 432x288 with 1 Axes>"
      ]
     },
     "metadata": {
      "needs_background": "light"
     },
     "output_type": "display_data"
    }
   ],
   "source": [
    "# plt.plot(thresholds, tpr, label='TPR')\n",
    "# plt.plot(thresholds, fpr, label='FPR')\n",
    "\n",
    "plt.plot(fpr, tpr, label='actual')\n",
    "plt.plot([0,1], [0,1], label='random')\n",
    "plt.legend()"
   ]
  },
  {
   "cell_type": "markdown",
   "id": "9de30424",
   "metadata": {},
   "source": [
    "# ROC AUC"
   ]
  },
  {
   "cell_type": "code",
   "execution_count": 57,
   "id": "3325c048",
   "metadata": {},
   "outputs": [],
   "source": [
    "from sklearn.metrics import auc"
   ]
  },
  {
   "cell_type": "code",
   "execution_count": 58,
   "id": "bc40c5c2",
   "metadata": {},
   "outputs": [
    {
     "data": {
      "text/plain": [
       "0.8440049838177868"
      ]
     },
     "execution_count": 58,
     "metadata": {},
     "output_type": "execute_result"
    }
   ],
   "source": [
    "auc(fpr, tpr)"
   ]
  },
  {
   "cell_type": "code",
   "execution_count": 59,
   "id": "4af69de2",
   "metadata": {},
   "outputs": [
    {
     "data": {
      "text/plain": [
       "0.8438340449455275"
      ]
     },
     "execution_count": 59,
     "metadata": {},
     "output_type": "execute_result"
    }
   ],
   "source": [
    "auc(scores_df.fpr, scores_df.tpr)"
   ]
  },
  {
   "cell_type": "code",
   "execution_count": 60,
   "id": "b6a49389",
   "metadata": {},
   "outputs": [
    {
     "data": {
      "text/plain": [
       "0.5060233793728696"
      ]
     },
     "execution_count": 60,
     "metadata": {},
     "output_type": "execute_result"
    }
   ],
   "source": [
    "auc(scores_df_random.fpr, scores_df_random.tpr)"
   ]
  },
  {
   "cell_type": "code",
   "execution_count": 61,
   "id": "5245fa90",
   "metadata": {},
   "outputs": [
    {
     "data": {
      "text/plain": [
       "0.9999430203759136"
      ]
     },
     "execution_count": 61,
     "metadata": {},
     "output_type": "execute_result"
    }
   ],
   "source": [
    "auc(scores_df_ideal.fpr, scores_df_ideal.tpr)"
   ]
  },
  {
   "cell_type": "code",
   "execution_count": 62,
   "id": "8f140cac",
   "metadata": {},
   "outputs": [
    {
     "data": {
      "text/plain": [
       "0.8440049838177868"
      ]
     },
     "execution_count": 62,
     "metadata": {},
     "output_type": "execute_result"
    }
   ],
   "source": [
    "from sklearn.metrics import roc_auc_score\n",
    "roc_auc_score(y_val, y_pred)"
   ]
  },
  {
   "cell_type": "markdown",
   "id": "a72612f8",
   "metadata": {},
   "source": [
    "prob(random selected positive) > prob(random selectd negative)"
   ]
  },
  {
   "cell_type": "code",
   "execution_count": 67,
   "id": "5b4f108c",
   "metadata": {},
   "outputs": [
    {
     "data": {
      "text/plain": [
       "0.8435"
      ]
     },
     "execution_count": 67,
     "metadata": {},
     "output_type": "execute_result"
    }
   ],
   "source": [
    "neg = y_pred[y_val == 0]\n",
    "pos = y_pred[y_val == 1]\n",
    "\n",
    "import random\n",
    "\n",
    "n = 10000\n",
    "success = 0\n",
    "\n",
    "for i in range(n):\n",
    "    pos_ind = random.randint(0, len(pos) -1)\n",
    "    neg_ind = random.randint(0, len(neg) -1)\n",
    "    \n",
    "    if pos[pos_ind] > neg[neg_ind]:\n",
    "        success = success + 1\n",
    "\n",
    "success/n      "
   ]
  },
  {
   "cell_type": "code",
   "execution_count": 68,
   "id": "28d3ca20",
   "metadata": {},
   "outputs": [
    {
     "data": {
      "text/plain": [
       "0.8407"
      ]
     },
     "execution_count": 68,
     "metadata": {},
     "output_type": "execute_result"
    }
   ],
   "source": [
    "n = 10000\n",
    "np.random.seed(1)\n",
    "\n",
    "pos_idx = np.random.randint(0, len(pos), size=n)\n",
    "neg_idx = np.random.randint(0, len(neg), size=n)\n",
    "\n",
    "\n",
    "(pos[pos_idx] > neg[neg_idx]).mean()"
   ]
  },
  {
   "cell_type": "markdown",
   "id": "698fa301",
   "metadata": {},
   "source": [
    "# Cross Validations"
   ]
  },
  {
   "cell_type": "code",
   "execution_count": 93,
   "id": "f9112ca8",
   "metadata": {},
   "outputs": [],
   "source": [
    "def train(df, columns, y_train, C=1.0):\n",
    "    dicts = df[columns].to_dict(orient='records')\n",
    "    \n",
    "    dv = DictVectorizer()\n",
    "    X_train = dv.fit_transform(dicts)\n",
    "    \n",
    "    model = LogisticRegression(C=C)\n",
    "    model.fit(X_train, y_train)\n",
    "    \n",
    "    return dv, model"
   ]
  },
  {
   "cell_type": "code",
   "execution_count": 77,
   "id": "78bd8015",
   "metadata": {},
   "outputs": [
    {
     "name": "stderr",
     "output_type": "stream",
     "text": [
      "C:\\ProgramData\\Anaconda3\\lib\\site-packages\\sklearn\\linear_model\\_logistic.py:763: ConvergenceWarning: lbfgs failed to converge (status=1):\n",
      "STOP: TOTAL NO. of ITERATIONS REACHED LIMIT.\n",
      "\n",
      "Increase the number of iterations (max_iter) or scale the data as shown in:\n",
      "    https://scikit-learn.org/stable/modules/preprocessing.html\n",
      "Please also refer to the documentation for alternative solver options:\n",
      "    https://scikit-learn.org/stable/modules/linear_model.html#logistic-regression\n",
      "  n_iter_i = _check_optimize_result(\n"
     ]
    }
   ],
   "source": [
    "dv, model = train(df_train, categorical+numerical, y_train)"
   ]
  },
  {
   "cell_type": "code",
   "execution_count": 79,
   "id": "2e35083b",
   "metadata": {},
   "outputs": [],
   "source": [
    "def predict(df, dv, model, columns):\n",
    "    dicts = df[columns].to_dict(orient='records')\n",
    "    \n",
    "    X = dv.transform(dicts)\n",
    "    \n",
    "    y_pred = model.predict_proba(X)[:, 1]\n",
    "    return y_pred"
   ]
  },
  {
   "cell_type": "code",
   "execution_count": 80,
   "id": "300c0ad2",
   "metadata": {},
   "outputs": [],
   "source": [
    "y_pred = predict(df_val, dv, model, categorical+numerical)"
   ]
  },
  {
   "cell_type": "code",
   "execution_count": 81,
   "id": "ec351e96",
   "metadata": {},
   "outputs": [],
   "source": [
    "from sklearn.model_selection import KFold"
   ]
  },
  {
   "cell_type": "code",
   "execution_count": 82,
   "id": "9a5cdacc",
   "metadata": {},
   "outputs": [],
   "source": [
    "kfold = KFold(n_splits = 10, shuffle=True, random_state=1)"
   ]
  },
  {
   "cell_type": "code",
   "execution_count": 87,
   "id": "06d27c60",
   "metadata": {},
   "outputs": [
    {
     "name": "stdout",
     "output_type": "stream",
     "text": [
      "Requirement already satisfied: tqdm in c:\\programdata\\anaconda3\\lib\\site-packages (4.59.0)\n"
     ]
    }
   ],
   "source": [
    "!pip install tqdm"
   ]
  },
  {
   "cell_type": "code",
   "execution_count": 94,
   "id": "a7c32212",
   "metadata": {},
   "outputs": [
    {
     "data": {
      "application/vnd.jupyter.widget-view+json": {
       "model_id": "3a04ab4756e044d1a649ce93633aa77b",
       "version_major": 2,
       "version_minor": 0
      },
      "text/plain": [
       "0it [00:00, ?it/s]"
      ]
     },
     "metadata": {},
     "output_type": "display_data"
    },
    {
     "name": "stderr",
     "output_type": "stream",
     "text": [
      "C:\\ProgramData\\Anaconda3\\lib\\site-packages\\sklearn\\linear_model\\_logistic.py:763: ConvergenceWarning: lbfgs failed to converge (status=1):\n",
      "STOP: TOTAL NO. of ITERATIONS REACHED LIMIT.\n",
      "\n",
      "Increase the number of iterations (max_iter) or scale the data as shown in:\n",
      "    https://scikit-learn.org/stable/modules/preprocessing.html\n",
      "Please also refer to the documentation for alternative solver options:\n",
      "    https://scikit-learn.org/stable/modules/linear_model.html#logistic-regression\n",
      "  n_iter_i = _check_optimize_result(\n",
      "C:\\ProgramData\\Anaconda3\\lib\\site-packages\\sklearn\\linear_model\\_logistic.py:763: ConvergenceWarning: lbfgs failed to converge (status=1):\n",
      "STOP: TOTAL NO. of ITERATIONS REACHED LIMIT.\n",
      "\n",
      "Increase the number of iterations (max_iter) or scale the data as shown in:\n",
      "    https://scikit-learn.org/stable/modules/preprocessing.html\n",
      "Please also refer to the documentation for alternative solver options:\n",
      "    https://scikit-learn.org/stable/modules/linear_model.html#logistic-regression\n",
      "  n_iter_i = _check_optimize_result(\n",
      "C:\\ProgramData\\Anaconda3\\lib\\site-packages\\sklearn\\linear_model\\_logistic.py:763: ConvergenceWarning: lbfgs failed to converge (status=1):\n",
      "STOP: TOTAL NO. of ITERATIONS REACHED LIMIT.\n",
      "\n",
      "Increase the number of iterations (max_iter) or scale the data as shown in:\n",
      "    https://scikit-learn.org/stable/modules/preprocessing.html\n",
      "Please also refer to the documentation for alternative solver options:\n",
      "    https://scikit-learn.org/stable/modules/linear_model.html#logistic-regression\n",
      "  n_iter_i = _check_optimize_result(\n",
      "C:\\ProgramData\\Anaconda3\\lib\\site-packages\\sklearn\\linear_model\\_logistic.py:763: ConvergenceWarning: lbfgs failed to converge (status=1):\n",
      "STOP: TOTAL NO. of ITERATIONS REACHED LIMIT.\n",
      "\n",
      "Increase the number of iterations (max_iter) or scale the data as shown in:\n",
      "    https://scikit-learn.org/stable/modules/preprocessing.html\n",
      "Please also refer to the documentation for alternative solver options:\n",
      "    https://scikit-learn.org/stable/modules/linear_model.html#logistic-regression\n",
      "  n_iter_i = _check_optimize_result(\n",
      "C:\\ProgramData\\Anaconda3\\lib\\site-packages\\sklearn\\linear_model\\_logistic.py:763: ConvergenceWarning: lbfgs failed to converge (status=1):\n",
      "STOP: TOTAL NO. of ITERATIONS REACHED LIMIT.\n",
      "\n",
      "Increase the number of iterations (max_iter) or scale the data as shown in:\n",
      "    https://scikit-learn.org/stable/modules/preprocessing.html\n",
      "Please also refer to the documentation for alternative solver options:\n",
      "    https://scikit-learn.org/stable/modules/linear_model.html#logistic-regression\n",
      "  n_iter_i = _check_optimize_result(\n",
      "C:\\ProgramData\\Anaconda3\\lib\\site-packages\\sklearn\\linear_model\\_logistic.py:763: ConvergenceWarning: lbfgs failed to converge (status=1):\n",
      "STOP: TOTAL NO. of ITERATIONS REACHED LIMIT.\n",
      "\n",
      "Increase the number of iterations (max_iter) or scale the data as shown in:\n",
      "    https://scikit-learn.org/stable/modules/preprocessing.html\n",
      "Please also refer to the documentation for alternative solver options:\n",
      "    https://scikit-learn.org/stable/modules/linear_model.html#logistic-regression\n",
      "  n_iter_i = _check_optimize_result(\n",
      "C:\\ProgramData\\Anaconda3\\lib\\site-packages\\sklearn\\linear_model\\_logistic.py:763: ConvergenceWarning: lbfgs failed to converge (status=1):\n",
      "STOP: TOTAL NO. of ITERATIONS REACHED LIMIT.\n",
      "\n",
      "Increase the number of iterations (max_iter) or scale the data as shown in:\n",
      "    https://scikit-learn.org/stable/modules/preprocessing.html\n",
      "Please also refer to the documentation for alternative solver options:\n",
      "    https://scikit-learn.org/stable/modules/linear_model.html#logistic-regression\n",
      "  n_iter_i = _check_optimize_result(\n"
     ]
    }
   ],
   "source": [
    "from tqdm.auto import tqdm\n",
    "auc_scores = []\n",
    "for train_idx, val_idx in tqdm(kfold.split(df_full_train)):\n",
    "    df_train = df_full_train.iloc[train_idx]\n",
    "    df_val = df_full_train.iloc[val_idx]\n",
    "    \n",
    "    y_train = df_train.churn.values\n",
    "    y_val = df_val.churn.values\n",
    "    \n",
    "    dv, model = train(df_train, categorical+numerical, y_train, C=10)\n",
    "    y_pred = predict(df_val, dv, model, categorical+numerical)\n",
    "    \n",
    "    \n",
    "    auc = roc_auc_score(y_val, y_pred)\n",
    "    auc_scores.append(auc)"
   ]
  },
  {
   "cell_type": "code",
   "execution_count": 95,
   "id": "e5c03c10",
   "metadata": {},
   "outputs": [
    {
     "data": {
      "text/plain": [
       "[0.8482737782866594,\n",
       " 0.8404084158415842,\n",
       " 0.8557879175456373,\n",
       " 0.8362686198666777,\n",
       " 0.8230303970223325,\n",
       " 0.8342157842157842,\n",
       " 0.8397590361445785,\n",
       " 0.8185246679316888,\n",
       " 0.8431747443308137,\n",
       " 0.8618869953951127]"
      ]
     },
     "execution_count": 95,
     "metadata": {},
     "output_type": "execute_result"
    }
   ],
   "source": [
    "auc_scores"
   ]
  },
  {
   "cell_type": "code",
   "execution_count": 96,
   "id": "b5b1783a",
   "metadata": {},
   "outputs": [
    {
     "data": {
      "text/plain": [
       "(0.840133035658087, 0.012662617665293504)"
      ]
     },
     "execution_count": 96,
     "metadata": {},
     "output_type": "execute_result"
    }
   ],
   "source": [
    "np.mean(auc_scores), np.std(auc_scores)"
   ]
  },
  {
   "cell_type": "code",
   "execution_count": 11,
   "id": "a6ab7c40",
   "metadata": {},
   "outputs": [],
   "source": [
    "from scipy.stats import poisson\n",
    "import pandas as pd"
   ]
  },
  {
   "cell_type": "code",
   "execution_count": 7,
   "id": "28053ac9",
   "metadata": {},
   "outputs": [
    {
     "data": {
      "text/plain": [
       "array([37, 40, 46, 48, 49, 41, 50, 51, 45, 49])"
      ]
     },
     "execution_count": 7,
     "metadata": {},
     "output_type": "execute_result"
    }
   ],
   "source": [
    "poisson.rvs(loc=18,mu=30,size=10)"
   ]
  },
  {
   "cell_type": "code",
   "execution_count": 9,
   "id": "32542a6f",
   "metadata": {},
   "outputs": [
    {
     "data": {
      "text/plain": [
       "array([44, 60, 55, 45, 54, 45, 51, 54, 55, 52])"
      ]
     },
     "execution_count": 9,
     "metadata": {},
     "output_type": "execute_result"
    }
   ],
   "source": [
    "poisson.rvs(loc=18,mu=33,size=10)"
   ]
  },
  {
   "cell_type": "code",
   "execution_count": 12,
   "id": "f51d2950",
   "metadata": {},
   "outputs": [],
   "source": [
    "reference = pd.Series([37, 40, 46, 48, 49, 41, 50, 51, 45, 49])\n",
    "current = pd.Series([44, 60, 55, 45, 54, 45, 51, 54, 55, 52])"
   ]
  },
  {
   "cell_type": "code",
   "execution_count": 13,
   "id": "cbbe7d89",
   "metadata": {},
   "outputs": [],
   "source": [
    "from scipy.stats import ttest_ind"
   ]
  },
  {
   "cell_type": "code",
   "execution_count": 15,
   "id": "a67f4798",
   "metadata": {},
   "outputs": [],
   "source": [
    "p_value = ttest_ind(reference, current)[1]"
   ]
  },
  {
   "cell_type": "code",
   "execution_count": 17,
   "id": "9cd66e05",
   "metadata": {},
   "outputs": [
    {
     "data": {
      "text/plain": [
       "(0.017196415500364014, True)"
      ]
     },
     "execution_count": 17,
     "metadata": {},
     "output_type": "execute_result"
    }
   ],
   "source": [
    "p_value, p_value < 0.05"
   ]
  },
  {
   "cell_type": "code",
   "execution_count": 18,
   "id": "8104bb10",
   "metadata": {},
   "outputs": [
    {
     "ename": "NameError",
     "evalue": "name 'approx' is not defined",
     "output_type": "error",
     "traceback": [
      "\u001b[1;31m---------------------------------------------------------------------------\u001b[0m",
      "\u001b[1;31mNameError\u001b[0m                                 Traceback (most recent call last)",
      "Input \u001b[1;32mIn [18]\u001b[0m, in \u001b[0;36m<cell line: 1>\u001b[1;34m()\u001b[0m\n\u001b[1;32m----> 1\u001b[0m \u001b[43mapprox\u001b[49m(\u001b[38;5;241m0.0635\u001b[39m, \u001b[38;5;28mabs\u001b[39m\u001b[38;5;241m=\u001b[39m\u001b[38;5;241m1e-3\u001b[39m)\n",
      "\u001b[1;31mNameError\u001b[0m: name 'approx' is not defined"
     ]
    }
   ],
   "source": [
    "approx(0.0635, abs=1e-3)"
   ]
  },
  {
   "cell_type": "code",
   "execution_count": 20,
   "id": "bfd843c3",
   "metadata": {},
   "outputs": [
    {
     "name": "stdout",
     "output_type": "stream",
     "text": [
      "^C\n"
     ]
    }
   ],
   "source": [
    "!conda install pytest"
   ]
  },
  {
   "cell_type": "code",
   "execution_count": 21,
   "id": "3fa10308",
   "metadata": {},
   "outputs": [
    {
     "ename": "ModuleNotFoundError",
     "evalue": "No module named 'pytest'",
     "output_type": "error",
     "traceback": [
      "\u001b[1;31m---------------------------------------------------------------------------\u001b[0m",
      "\u001b[1;31mModuleNotFoundError\u001b[0m                       Traceback (most recent call last)",
      "Input \u001b[1;32mIn [21]\u001b[0m, in \u001b[0;36m<cell line: 1>\u001b[1;34m()\u001b[0m\n\u001b[1;32m----> 1\u001b[0m \u001b[38;5;28;01mfrom\u001b[39;00m \u001b[38;5;21;01mpytest\u001b[39;00m \u001b[38;5;28;01mimport\u001b[39;00m approx\n",
      "\u001b[1;31mModuleNotFoundError\u001b[0m: No module named 'pytest'"
     ]
    }
   ],
   "source": [
    "from pytest import approx"
   ]
  },
  {
   "cell_type": "code",
   "execution_count": 22,
   "id": "e3403113",
   "metadata": {},
   "outputs": [],
   "source": [
    "A_1=[30.02, 29.99, 30.11, 29.97, 30.01, 29.99]\n",
    "A_2=[29.89, 29.93, 29.72, 29.98,30.02, 29.98]"
   ]
  },
  {
   "cell_type": "code",
   "execution_count": 23,
   "id": "6d0246fb",
   "metadata": {},
   "outputs": [],
   "source": [
    "p_value = ttest_ind(A_1, A_2)[1]"
   ]
  },
  {
   "cell_type": "code",
   "execution_count": 26,
   "id": "bcf4b393",
   "metadata": {},
   "outputs": [
    {
     "data": {
      "text/plain": [
       "(0.07856577385723071, False)"
      ]
     },
     "execution_count": 26,
     "metadata": {},
     "output_type": "execute_result"
    }
   ],
   "source": [
    "p_value, p_value < 0.001"
   ]
  },
  {
   "cell_type": "code",
   "execution_count": null,
   "id": "f2b06aac",
   "metadata": {},
   "outputs": [],
   "source": []
  }
 ],
 "metadata": {
  "kernelspec": {
   "display_name": "Python 3 (ipykernel)",
   "language": "python",
   "name": "python3"
  },
  "language_info": {
   "codemirror_mode": {
    "name": "ipython",
    "version": 3
   },
   "file_extension": ".py",
   "mimetype": "text/x-python",
   "name": "python",
   "nbconvert_exporter": "python",
   "pygments_lexer": "ipython3",
   "version": "3.9.13"
  }
 },
 "nbformat": 4,
 "nbformat_minor": 5
}
