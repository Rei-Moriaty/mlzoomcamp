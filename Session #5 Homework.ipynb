{
 "cells": [
  {
   "cell_type": "markdown",
   "id": "b6b0f95f",
   "metadata": {},
   "source": [
    "# Question 1"
   ]
  },
  {
   "cell_type": "code",
   "execution_count": 2,
   "id": "c4449783",
   "metadata": {},
   "outputs": [
    {
     "name": "stdout",
     "output_type": "stream",
     "text": [
      "pipenv, version 2022.10.4\n",
      "\n"
     ]
    }
   ],
   "source": [
    "!pipenv --version"
   ]
  },
  {
   "cell_type": "markdown",
   "id": "4889d4f4",
   "metadata": {},
   "source": [
    "### Answer: pipenv, version 2022.10.4"
   ]
  },
  {
   "cell_type": "markdown",
   "id": "4c8ed5c7",
   "metadata": {},
   "source": [
    "# Question 2"
   ]
  },
  {
   "cell_type": "code",
   "execution_count": 5,
   "id": "d741e00f",
   "metadata": {},
   "outputs": [
    {
     "name": "stdout",
     "output_type": "stream",
     "text": [
      "Installing sklearn=1.0.2...\n",
      "\n"
     ]
    },
    {
     "name": "stderr",
     "output_type": "stream",
     "text": [
      "\n",
      "[    ] Installing...\bTraceback (most recent call last):\n",
      "  File \"C:\\Users\\Kartik Powar\\AppData\\Local\\Programs\\Python\\Python38\\lib\\site-packages\\pipenv\\patched\\pip\\_vendor\\packaging\\requirements.py\", line 102, in __init__\n",
      "    req = REQUIREMENT.parseString(requirement_string)\n",
      "  File \"C:\\Users\\Kartik Powar\\AppData\\Local\\Programs\\Python\\Python38\\lib\\site-packages\\pipenv\\patched\\pip\\_vendor\\pyparsing\\core.py\", line 1141, in parse_string\n",
      "    raise exc.with_traceback(None)\n",
      "pipenv.patched.pip._vendor.pyparsing.exceptions.ParseException: Expected string_end, found '='  (at char 7), (line:1, col:8)\n",
      "\n",
      "During handling of the above exception, another exception occurred:\n",
      "\n",
      "Traceback (most recent call last):\n",
      "  File \"C:\\Users\\Kartik Powar\\AppData\\Local\\Programs\\Python\\Python38\\lib\\site-packages\\pipenv\\patched\\pip\\_vendor\\pkg_resources\\__init__.py\", line 3101, in __init__\n",
      "    super(Requirement, self).__init__(requirement_string)\n",
      "  File \"C:\\Users\\Kartik Powar\\AppData\\Local\\Programs\\Python\\Python38\\lib\\site-packages\\pipenv\\patched\\pip\\_vendor\\packaging\\requirements.py\", line 104, in __init__\n",
      "    raise InvalidRequirement(\n",
      "pipenv.patched.pip._vendor.packaging.requirements.InvalidRequirement: Parse error at \"'=1.0.2'\": Expected string_end\n",
      "\n",
      "During handling of the above exception, another exception occurred:\n",
      "\n",
      "Traceback (most recent call last):\n",
      "  File \"C:\\Users\\Kartik Powar\\AppData\\Local\\Programs\\Python\\Python38\\lib\\site-packages\\pipenv\\vendor\\requirementslib\\models\\requirements.py\", line 965, in _parse_name_from_line\n",
      "    self._requirement = init_requirement(self.line)\n",
      "  File \"C:\\Users\\Kartik Powar\\AppData\\Local\\Programs\\Python\\Python38\\lib\\site-packages\\pipenv\\vendor\\requirementslib\\models\\utils.py\", line 192, in init_requirement\n",
      "    req = Requirement.parse(name)\n",
      "  File \"C:\\Users\\Kartik Powar\\AppData\\Local\\Programs\\Python\\Python38\\lib\\site-packages\\pipenv\\patched\\pip\\_vendor\\pkg_resources\\__init__.py\", line 3148, in parse\n",
      "    req, = parse_requirements(s)\n",
      "  File \"C:\\Users\\Kartik Powar\\AppData\\Local\\Programs\\Python\\Python38\\lib\\site-packages\\pipenv\\patched\\pip\\_vendor\\pkg_resources\\__init__.py\", line 3094, in parse_requirements\n",
      "    yield Requirement(line)\n",
      "  File \"C:\\Users\\Kartik Powar\\AppData\\Local\\Programs\\Python\\Python38\\lib\\site-packages\\pipenv\\patched\\pip\\_vendor\\pkg_resources\\__init__.py\", line 3103, in __init__\n",
      "    raise RequirementParseError(str(e))\n",
      "pipenv.patched.pip._vendor.pkg_resources.RequirementParseError: Parse error at \"'=1.0.2'\": Expected string_end\n",
      "\n",
      "During handling of the above exception, another exception occurred:\n",
      "\n",
      "Traceback (most recent call last):\n",
      "  File \"C:\\Users\\Kartik Powar\\AppData\\Local\\Programs\\Python\\Python38\\lib\\runpy.py\", line 194, in _run_module_as_main\n",
      "    return _run_code(code, main_globals, None,\n",
      "  File \"C:\\Users\\Kartik Powar\\AppData\\Local\\Programs\\Python\\Python38\\lib\\runpy.py\", line 87, in _run_code\n",
      "    exec(code, run_globals)\n",
      "  File \"C:\\Users\\Kartik Powar\\AppData\\Local\\Programs\\Python\\Python38\\Scripts\\pipenv.exe\\__main__.py\", line 7, in <module>\n",
      "  File \"C:\\Users\\Kartik Powar\\AppData\\Local\\Programs\\Python\\Python38\\lib\\site-packages\\pipenv\\vendor\\click\\core.py\", line 1128, in __call__\n",
      "    return self.main(*args, **kwargs)\n",
      "  File \"C:\\Users\\Kartik Powar\\AppData\\Local\\Programs\\Python\\Python38\\lib\\site-packages\\pipenv\\cli\\options.py\", line 57, in main\n",
      "    return super().main(*args, **kwargs, windows_expand_args=False)\n",
      "  File \"C:\\Users\\Kartik Powar\\AppData\\Local\\Programs\\Python\\Python38\\lib\\site-packages\\pipenv\\vendor\\click\\core.py\", line 1053, in main\n",
      "    rv = self.invoke(ctx)\n",
      "  File \"C:\\Users\\Kartik Powar\\AppData\\Local\\Programs\\Python\\Python38\\lib\\site-packages\\pipenv\\vendor\\click\\core.py\", line 1659, in invoke\n",
      "    return _process_result(sub_ctx.command.invoke(sub_ctx))\n",
      "  File \"C:\\Users\\Kartik Powar\\AppData\\Local\\Programs\\Python\\Python38\\lib\\site-packages\\pipenv\\vendor\\click\\core.py\", line 1395, in invoke\n",
      "    return ctx.invoke(self.callback, **ctx.params)\n",
      "  File \"C:\\Users\\Kartik Powar\\AppData\\Local\\Programs\\Python\\Python38\\lib\\site-packages\\pipenv\\vendor\\click\\core.py\", line 754, in invoke\n",
      "    return __callback(*args, **kwargs)\n",
      "  File \"C:\\Users\\Kartik Powar\\AppData\\Local\\Programs\\Python\\Python38\\lib\\site-packages\\pipenv\\vendor\\click\\decorators.py\", line 84, in new_func\n",
      "    return ctx.invoke(f, obj, *args, **kwargs)\n",
      "  File \"C:\\Users\\Kartik Powar\\AppData\\Local\\Programs\\Python\\Python38\\lib\\site-packages\\pipenv\\vendor\\click\\core.py\", line 754, in invoke\n",
      "    return __callback(*args, **kwargs)\n",
      "  File \"C:\\Users\\Kartik Powar\\AppData\\Local\\Programs\\Python\\Python38\\lib\\site-packages\\pipenv\\cli\\command.py\", line 236, in install\n",
      "    do_install(\n",
      "  File \"C:\\Users\\Kartik Powar\\AppData\\Local\\Programs\\Python\\Python38\\lib\\site-packages\\pipenv\\core.py\", line 2223, in do_install\n",
      "    pkg_requirement = Requirement.from_line(pkg_line)\n",
      "  File \"C:\\Users\\Kartik Powar\\AppData\\Local\\Programs\\Python\\Python38\\lib\\site-packages\\pipenv\\vendor\\requirementslib\\models\\requirements.py\", line 2676, in from_line\n",
      "    parsed_line = Line(line)\n",
      "  File \"C:\\Users\\Kartik Powar\\AppData\\Local\\Programs\\Python\\Python38\\lib\\site-packages\\pipenv\\vendor\\requirementslib\\models\\requirements.py\", line 172, in __init__\n",
      "    self.parse()\n",
      "  File \"C:\\Users\\Kartik Powar\\AppData\\Local\\Programs\\Python\\Python38\\lib\\site-packages\\pipenv\\vendor\\requirementslib\\models\\requirements.py\", line 1301, in parse\n",
      "    self.parse_name()\n",
      "  File \"C:\\Users\\Kartik Powar\\AppData\\Local\\Programs\\Python\\Python38\\lib\\site-packages\\pipenv\\vendor\\requirementslib\\models\\requirements.py\", line 1026, in parse_name\n",
      "    name = self._parse_name_from_line()\n",
      "  File \"C:\\Users\\Kartik Powar\\AppData\\Local\\Programs\\Python\\Python38\\lib\\site-packages\\pipenv\\vendor\\requirementslib\\models\\requirements.py\", line 967, in _parse_name_from_line\n",
      "    raise RequirementError(\n",
      "pipenv.vendor.requirementslib.exceptions.RequirementError: Failed parsing requirement from 'sklearn=1.0.2'\n"
     ]
    }
   ],
   "source": [
    "!pipenv install sklearn=1.0.2"
   ]
  },
  {
   "cell_type": "code",
   "execution_count": null,
   "id": "2baf4cbf",
   "metadata": {},
   "outputs": [],
   "source": []
  }
 ],
 "metadata": {
  "kernelspec": {
   "display_name": "Python 3",
   "language": "python",
   "name": "python3"
  },
  "language_info": {
   "codemirror_mode": {
    "name": "ipython",
    "version": 3
   },
   "file_extension": ".py",
   "mimetype": "text/x-python",
   "name": "python",
   "nbconvert_exporter": "python",
   "pygments_lexer": "ipython3",
   "version": "3.8.8"
  }
 },
 "nbformat": 4,
 "nbformat_minor": 5
}
